{
 "cells": [
  {
   "cell_type": "markdown",
   "metadata": {},
   "source": [
    "<div class=\"alert alert-block alert-success\">\n",
    "Good job! 10/10\n",
    "</div>"
   ]
  },
  {
   "cell_type": "code",
   "execution_count": 2,
   "metadata": {
    "collapsed": true
   },
   "outputs": [],
   "source": [
    "from aide_design.play import*\n",
    "\n",
    "## Laboratory 4 Pre Lab \n",
    "### Benjamin Gassaway"
   ]
  },
  {
   "cell_type": "markdown",
   "metadata": {},
   "source": [
    "1)Compare the ability of Cayuga lake and Wolf pond (an Adirondack lake) to withstand an acid rain runoff event (from snow melt) that results in 20% of the original lake water being replaced by acid rain. The acid rain has a pH of 3.5 and is in equilibrium with the atmosphere. The ANC of Cayuga lake is 1.6 meq/L and the ANC of Wolf Pond is 70 µeq/L. Assume that carbonate species are the primary component of ANC in both lakes, and that they are in equilibrium with the atmosphere. What is the pH of both bodies of water after the acid rain input? Remember that ANC is the conservative parameter (not pH!). Hint: You can use the scipy optimize root finding function called brentq. Scipy can’t handle units so the units must be removed using .magnitude"
   ]
  },
  {
   "cell_type": "code",
   "execution_count": 3,
   "metadata": {},
   "outputs": [
    {
     "name": "stdout",
     "output_type": "stream",
     "text": [
      "0.00125264683592\n",
      "-1.12162862457e-08\n",
      "The pH of Cayuga after the rainfall is 8.453193407541995\n",
      "The pH of Wolf after the rainfall is 5.6833019722140445\n"
     ]
    }
   ],
   "source": [
    "pH = 3.5\n",
    "Kw = 10**(-14)\n",
    "K1_carbonate = 10**(-6.37)\n",
    "K2_carbonate = 10**(-10.25)\n",
    "K_Henry_CO2 = 10**(-1.5)\n",
    "P_CO2 = 10**(-3.5)\n",
    "def invpH(pH):\n",
    "  return 10**(-pH)\n",
    "\n",
    "def alpha0_carbonate(pH):\n",
    "   alpha0_carbonate = 1/(1+(K1_carbonate/invpH(pH))*(1+(K2_carbonate/invpH(pH))))\n",
    "   return alpha0_carbonate\n",
    "\n",
    "def alpha1_carbonate(pH):\n",
    "  alpha1_carbonate = 1/((invpH(pH)/K1_carbonate) + 1 + (K2_carbonate/invpH(pH)))\n",
    "  return alpha1_carbonate\n",
    "\n",
    "def alpha2_carbonate(pH):\n",
    "  alpha2_carbonate = 1/(1+(invpH(pH)/K2_carbonate)*(1+(invpH(pH)/K1_carbonate)))\n",
    "  return alpha2_carbonate\n",
    "def ANC_closed(pH,Total_Carbonates):\n",
    "  return Total_Carbonates*(alpha1_carbonate(pH)+2*alpha2_carbonate(pH)) + Kw/invpH(pH) - invpH(pH)\n",
    "\n",
    "def ANC_open(pH):\n",
    "  return ANC_closed(pH,P_CO2*K_Henry_CO2/alpha0_carbonate(pH))\n",
    "\n",
    "ANCin = -10**(-pH)\n",
    "restime = .2\n",
    "\n",
    "ANC_cayuga = 1.6*(10**-3)\n",
    "ANC_wolf = 70*(10**-6)\n",
    "\n",
    "ANC_cayuga_after= ANCin*(1-np.exp(-restime))+ANC_cayuga*np.exp(-restime)\n",
    "print(ANC_cayuga_after)\n",
    "ANC_wolf_after=ANCin*(1-np.exp(-restime))+ANC_wolf*np.exp(-restime)\n",
    "print(ANC_wolf_after)\n",
    "\n",
    "import scipy\n",
    "from scipy import optimize\n",
    "\n",
    "def ANC_open_unitless(pH):\n",
    "  return (ANC_open(pH)-ANC_cayuga_after)\n",
    "\n",
    "def pH_open():\n",
    "    return optimize.brentq(ANC_open_unitless, 1, 12)\n",
    "print('The pH of Cayuga after the rainfall is',pH_open())\n",
    "\n",
    "def ANC_open_unitless(pH):\n",
    "  return (ANC_open(pH)-ANC_wolf_after)\n",
    "\n",
    "def pH_open():\n",
    "      return optimize.brentq(ANC_open_unitless, 1, 12)\n",
    "print('The pH of Wolf after the rainfall is',pH_open())"
   ]
  },
  {
   "cell_type": "markdown",
   "metadata": {},
   "source": [
    "<div class=\"alert alert-block alert-success\">\n",
    "Good job! 6/6\n",
    "</div>"
   ]
  },
  {
   "cell_type": "markdown",
   "metadata": {},
   "source": [
    "2) What is the ANC of a water sample containing only carbonates and a strong acid that is at pH 3.2? This requires that you inspect all of the species in the ANC equation and determine which species are important."
   ]
  },
  {
   "cell_type": "code",
   "execution_count": 4,
   "metadata": {},
   "outputs": [
    {
     "name": "stdout",
     "output_type": "stream",
     "text": [
      "The ANC of a water sample containing only carbonates and a strong acid of pH 3.2 is -0.000630957344480193\n"
     ]
    }
   ],
   "source": [
    "pH = 3.2\n",
    "concH = 10**(-pH)\n",
    "ANC_sample = -concH\n",
    "print('The ANC of a water sample containing only carbonates and a strong acid of pH 3.2 is', ANC_sample)"
   ]
  },
  {
   "cell_type": "markdown",
   "metadata": {},
   "source": [
    "<div class=\"alert alert-block alert-success\">\n",
    "Good job! 3/3\n",
    "</div>"
   ]
  },
  {
   "cell_type": "markdown",
   "metadata": {},
   "source": [
    "3) [H+] is not a conserved species because the pH of the water is not low enough to stabilize the [H+] as an independent species in solution. The H+ will continue to possess reactibility as it transforms between different species as carbonic acid, bicarbonate, and free-floating protons. Once the pH decreases low enough and the solution becomes more acidic, the [H+] will remain in solution as protons without undergoing any reversible reactions."
   ]
  },
  {
   "cell_type": "markdown",
   "metadata": {},
   "source": [
    "<div class=\"alert alert-block alert-success\">\n",
    "Good job! 1/1\n",
    "</div>"
   ]
  },
  {
   "cell_type": "code",
   "execution_count": null,
   "metadata": {
    "collapsed": true
   },
   "outputs": [],
   "source": []
  }
 ],
 "metadata": {
  "kernelspec": {
   "display_name": "Python 3",
   "language": "python",
   "name": "python3"
  },
  "language_info": {
   "codemirror_mode": {
    "name": "ipython",
    "version": 3
   },
   "file_extension": ".py",
   "mimetype": "text/x-python",
   "name": "python",
   "nbconvert_exporter": "python",
   "pygments_lexer": "ipython3",
   "version": "3.6.3"
  }
 },
 "nbformat": 4,
 "nbformat_minor": 2
}
